{
 "cells": [
  {
   "cell_type": "code",
   "execution_count": 2,
   "metadata": {},
   "outputs": [
    {
     "data": {
      "text/plain": [
       "<Task pending name='Task-5' coro=<main() running at /var/folders/cw/1lww4g_d38v8_1ppy874q08m0000gn/T/ipykernel_71981/54471542.py:20>>"
      ]
     },
     "execution_count": 2,
     "metadata": {},
     "output_type": "execute_result"
    },
    {
     "name": "stdout",
     "output_type": "stream",
     "text": [
      "Serving on ('127.0.0.1', 8888)\n"
     ]
    }
   ],
   "source": [
    "import asyncio\n",
    "\n",
    "async def handle_request(reader, writer):\n",
    "    data = await reader.read(1024)  # Read incoming data from the client\n",
    "    message = data.decode()  # Decode the data\n",
    "    addr = writer.get_extra_info('peername')\n",
    "    print(f\"Received request from {addr}: {message}\")\n",
    "\n",
    "    # Simulate I/O-bound operation (e.g., querying a database)\n",
    "    await asyncio.sleep(2)\n",
    "\n",
    "    # Send a response back to the client\n",
    "    response = \"HTTP/1.1 200 OK\\r\\nContent-Type: text/plain\\r\\n\\r\\nHello, world!\\r\\n\"\n",
    "    writer.write(response.encode())\n",
    "    await writer.drain()\n",
    "\n",
    "    print(\"Response sent\")\n",
    "    writer.close()\n",
    "\n",
    "async def main():\n",
    "    server = await asyncio.start_server(\n",
    "        handle_request, '127.0.0.1', 8888)\n",
    "\n",
    "    addr = server.sockets[0].getsockname()\n",
    "    print(f'Serving on {addr}')\n",
    "\n",
    "    async with server:\n",
    "        await server.serve_forever()\n",
    "\n",
    "asyncio.run(main())"
   ]
  },
  {
   "cell_type": "code",
   "execution_count": null,
   "metadata": {},
   "outputs": [],
   "source": []
  }
 ],
 "metadata": {
  "kernelspec": {
   "display_name": "pyspark",
   "language": "python",
   "name": "python3"
  },
  "language_info": {
   "codemirror_mode": {
    "name": "ipython",
    "version": 3
   },
   "file_extension": ".py",
   "mimetype": "text/x-python",
   "name": "python",
   "nbconvert_exporter": "python",
   "pygments_lexer": "ipython3",
   "version": "3.11.4"
  },
  "orig_nbformat": 4
 },
 "nbformat": 4,
 "nbformat_minor": 2
}
